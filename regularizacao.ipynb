{
 "cells": [
  {
   "cell_type": "code",
   "execution_count": 1,
   "id": "c1e9bd16",
   "metadata": {},
   "outputs": [],
   "source": [
    "import numpy as np"
   ]
  },
  {
   "cell_type": "code",
   "execution_count": 2,
   "id": "acaccf97",
   "metadata": {},
   "outputs": [],
   "source": [
    "X_treino = np.array([\n",
    "    [-1, -1],\n",
    "    [0, 0],\n",
    "    [2, 2],\n",
    "])\n",
    "\n",
    "y_treino = np.array([\n",
    "    [0],\n",
    "    [1],\n",
    "    [3],\n",
    "])"
   ]
  },
  {
   "cell_type": "code",
   "execution_count": 3,
   "id": "e5c8f8c5",
   "metadata": {},
   "outputs": [],
   "source": [
    "def treina_eq_normal(X_treino, y_treino):\n",
    "    # Constroi as matrizes X e y para a equação normal.\n",
    "    m = X_treino.shape[0]\n",
    "    X = np.hstack((np.ones((m, 1)), X_treino))\n",
    "    y = y_treino\n",
    "\n",
    "    # Calcula os parâmetros theta ótimos usando a equação normal.\n",
    "    theta_otimo = np.linalg.inv(X.T @ X) @ X.T @ y\n",
    "\n",
    "    return theta_otimo"
   ]
  },
  {
   "cell_type": "code",
   "execution_count": 7,
   "id": "5e4f2cd0",
   "metadata": {},
   "outputs": [
    {
     "name": "stdout",
     "output_type": "stream",
     "text": [
      "Erro na inversão da matriz: Singular matrix\n"
     ]
    }
   ],
   "source": [
    "try:\n",
    "    theta_otimo = treina_eq_normal(X_treino, y_treino)\n",
    "    print(\"Theta ótimo:\", theta_otimo)\n",
    "except np.linalg.LinAlgError as e:\n",
    "    theta_otimo = None\n",
    "    print(\"Erro na inversão da matriz:\", e)"
   ]
  },
  {
   "cell_type": "code",
   "execution_count": 23,
   "id": "2cd693f5",
   "metadata": {},
   "outputs": [],
   "source": [
    "def treina_eq_normal_ridge(X_treino, y_treino, alpha):\n",
    "    # Constroi as matrizes X e y para a equação normal.\n",
    "    m = X_treino.shape[0]\n",
    "    X = np.hstack((np.ones((m, 1)), X_treino))\n",
    "    y = y_treino\n",
    "\n",
    "    # Calcula os parâmetros theta ótimos usando a equação normal.\n",
    "    I = np.eye(X.shape[1])\n",
    "    I[0, 0] = 0  # Não regulariza o termo de viés.\n",
    "    theta_otimo = np.linalg.inv(X.T @ X + alpha * I) @ X.T @ y\n",
    "\n",
    "    return theta_otimo"
   ]
  },
  {
   "cell_type": "code",
   "execution_count": 24,
   "id": "e2e32eee",
   "metadata": {},
   "outputs": [
    {
     "name": "stdout",
     "output_type": "stream",
     "text": [
      "Theta ótimo: [[1.00000357]\n",
      " [0.49999464]\n",
      " [0.49999464]]\n"
     ]
    }
   ],
   "source": [
    "theta_otimo = treina_eq_normal_ridge(X_treino, y_treino, alpha=0.0001)\n",
    "print(\"Theta ótimo:\", theta_otimo)"
   ]
  },
  {
   "cell_type": "code",
   "execution_count": 25,
   "id": "a06fecc6",
   "metadata": {},
   "outputs": [
    {
     "name": "stdout",
     "output_type": "stream",
     "text": [
      "Theta ótimo (Scikit-Learn): [1.00000357 0.49999464 0.49999464]\n"
     ]
    }
   ],
   "source": [
    "# No Scikit-Learn:\n",
    "from sklearn.linear_model import Ridge\n",
    "\n",
    "model = Ridge(alpha=0.0001, fit_intercept=True)\n",
    "model.fit(X_treino, y_treino)\n",
    "print(\"Theta ótimo (Scikit-Learn):\", np.hstack((model.intercept_, model.coef_.flatten())))"
   ]
  },
  {
   "cell_type": "code",
   "execution_count": null,
   "id": "7cd8feb8",
   "metadata": {},
   "outputs": [],
   "source": []
  }
 ],
 "metadata": {
  "kernelspec": {
   "display_name": "foo (3.13.2)",
   "language": "python",
   "name": "python3"
  },
  "language_info": {
   "codemirror_mode": {
    "name": "ipython",
    "version": 3
   },
   "file_extension": ".py",
   "mimetype": "text/x-python",
   "name": "python",
   "nbconvert_exporter": "python",
   "pygments_lexer": "ipython3",
   "version": "3.13.2"
  }
 },
 "nbformat": 4,
 "nbformat_minor": 5
}
